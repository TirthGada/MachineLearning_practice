{
 "cells": [
  {
   "cell_type": "markdown",
   "id": "fe04c3d5",
   "metadata": {},
   "source": [
    "# TASK 1 :- Cleaning and pre-processing data"
   ]
  },
  {
   "cell_type": "code",
   "execution_count": 1,
   "id": "02fbecd6",
   "metadata": {},
   "outputs": [],
   "source": [
    "import numpy as np\n",
    "import pandas as pd\n",
    "import matplotlib.pyplot as plt\n",
    "import seaborn as sns"
   ]
  },
  {
   "cell_type": "code",
   "execution_count": 2,
   "id": "ee335245",
   "metadata": {},
   "outputs": [],
   "source": [
    "df=pd.read_csv('ICICIBANK.NS.csv')"
   ]
  },
  {
   "cell_type": "code",
   "execution_count": 4,
   "id": "31571bdc",
   "metadata": {},
   "outputs": [],
   "source": [
    "\n",
    "df.dropna(inplace=True)"
   ]
  },
  {
   "cell_type": "code",
   "execution_count": 5,
   "id": "a87faf1e",
   "metadata": {},
   "outputs": [
    {
     "data": {
      "text/html": [
       "<div>\n",
       "<style scoped>\n",
       "    .dataframe tbody tr th:only-of-type {\n",
       "        vertical-align: middle;\n",
       "    }\n",
       "\n",
       "    .dataframe tbody tr th {\n",
       "        vertical-align: top;\n",
       "    }\n",
       "\n",
       "    .dataframe thead th {\n",
       "        text-align: right;\n",
       "    }\n",
       "</style>\n",
       "<table border=\"1\" class=\"dataframe\">\n",
       "  <thead>\n",
       "    <tr style=\"text-align: right;\">\n",
       "      <th></th>\n",
       "      <th>Date</th>\n",
       "      <th>Open</th>\n",
       "      <th>High</th>\n",
       "      <th>Low</th>\n",
       "      <th>Close</th>\n",
       "      <th>Adj Close</th>\n",
       "      <th>Volume</th>\n",
       "    </tr>\n",
       "  </thead>\n",
       "  <tbody>\n",
       "    <tr>\n",
       "      <th>0</th>\n",
       "      <td>2022-07-19</td>\n",
       "      <td>767.799988</td>\n",
       "      <td>782.000000</td>\n",
       "      <td>767.150024</td>\n",
       "      <td>780.650024</td>\n",
       "      <td>775.993286</td>\n",
       "      <td>12825591.0</td>\n",
       "    </tr>\n",
       "    <tr>\n",
       "      <th>1</th>\n",
       "      <td>2022-07-20</td>\n",
       "      <td>789.500000</td>\n",
       "      <td>789.549988</td>\n",
       "      <td>780.299988</td>\n",
       "      <td>783.099976</td>\n",
       "      <td>778.428650</td>\n",
       "      <td>8152179.0</td>\n",
       "    </tr>\n",
       "    <tr>\n",
       "      <th>2</th>\n",
       "      <td>2022-07-21</td>\n",
       "      <td>784.900024</td>\n",
       "      <td>788.950012</td>\n",
       "      <td>780.099976</td>\n",
       "      <td>786.000000</td>\n",
       "      <td>781.311401</td>\n",
       "      <td>8312338.0</td>\n",
       "    </tr>\n",
       "    <tr>\n",
       "      <th>3</th>\n",
       "      <td>2022-07-22</td>\n",
       "      <td>789.099976</td>\n",
       "      <td>803.900024</td>\n",
       "      <td>789.099976</td>\n",
       "      <td>800.049988</td>\n",
       "      <td>795.277527</td>\n",
       "      <td>12267898.0</td>\n",
       "    </tr>\n",
       "    <tr>\n",
       "      <th>4</th>\n",
       "      <td>2022-07-25</td>\n",
       "      <td>803.000000</td>\n",
       "      <td>817.799988</td>\n",
       "      <td>797.099976</td>\n",
       "      <td>800.900024</td>\n",
       "      <td>796.122498</td>\n",
       "      <td>21034148.0</td>\n",
       "    </tr>\n",
       "    <tr>\n",
       "      <th>...</th>\n",
       "      <td>...</td>\n",
       "      <td>...</td>\n",
       "      <td>...</td>\n",
       "      <td>...</td>\n",
       "      <td>...</td>\n",
       "      <td>...</td>\n",
       "      <td>...</td>\n",
       "    </tr>\n",
       "    <tr>\n",
       "      <th>242</th>\n",
       "      <td>2023-07-12</td>\n",
       "      <td>948.400024</td>\n",
       "      <td>951.150024</td>\n",
       "      <td>941.250000</td>\n",
       "      <td>944.400024</td>\n",
       "      <td>944.400024</td>\n",
       "      <td>21511161.0</td>\n",
       "    </tr>\n",
       "    <tr>\n",
       "      <th>243</th>\n",
       "      <td>2023-07-13</td>\n",
       "      <td>947.700012</td>\n",
       "      <td>959.250000</td>\n",
       "      <td>942.200012</td>\n",
       "      <td>955.700012</td>\n",
       "      <td>955.700012</td>\n",
       "      <td>23222286.0</td>\n",
       "    </tr>\n",
       "    <tr>\n",
       "      <th>244</th>\n",
       "      <td>2023-07-14</td>\n",
       "      <td>959.750000</td>\n",
       "      <td>965.000000</td>\n",
       "      <td>951.349976</td>\n",
       "      <td>960.049988</td>\n",
       "      <td>960.049988</td>\n",
       "      <td>12871569.0</td>\n",
       "    </tr>\n",
       "    <tr>\n",
       "      <th>245</th>\n",
       "      <td>2023-07-17</td>\n",
       "      <td>962.900024</td>\n",
       "      <td>973.799988</td>\n",
       "      <td>952.849976</td>\n",
       "      <td>968.700012</td>\n",
       "      <td>968.700012</td>\n",
       "      <td>16290763.0</td>\n",
       "    </tr>\n",
       "    <tr>\n",
       "      <th>247</th>\n",
       "      <td>2023-07-19</td>\n",
       "      <td>980.000000</td>\n",
       "      <td>980.000000</td>\n",
       "      <td>967.549988</td>\n",
       "      <td>973.450012</td>\n",
       "      <td>973.450012</td>\n",
       "      <td>15993102.0</td>\n",
       "    </tr>\n",
       "  </tbody>\n",
       "</table>\n",
       "<p>247 rows × 7 columns</p>\n",
       "</div>"
      ],
      "text/plain": [
       "           Date        Open        High         Low       Close   Adj Close  \\\n",
       "0    2022-07-19  767.799988  782.000000  767.150024  780.650024  775.993286   \n",
       "1    2022-07-20  789.500000  789.549988  780.299988  783.099976  778.428650   \n",
       "2    2022-07-21  784.900024  788.950012  780.099976  786.000000  781.311401   \n",
       "3    2022-07-22  789.099976  803.900024  789.099976  800.049988  795.277527   \n",
       "4    2022-07-25  803.000000  817.799988  797.099976  800.900024  796.122498   \n",
       "..          ...         ...         ...         ...         ...         ...   \n",
       "242  2023-07-12  948.400024  951.150024  941.250000  944.400024  944.400024   \n",
       "243  2023-07-13  947.700012  959.250000  942.200012  955.700012  955.700012   \n",
       "244  2023-07-14  959.750000  965.000000  951.349976  960.049988  960.049988   \n",
       "245  2023-07-17  962.900024  973.799988  952.849976  968.700012  968.700012   \n",
       "247  2023-07-19  980.000000  980.000000  967.549988  973.450012  973.450012   \n",
       "\n",
       "         Volume  \n",
       "0    12825591.0  \n",
       "1     8152179.0  \n",
       "2     8312338.0  \n",
       "3    12267898.0  \n",
       "4    21034148.0  \n",
       "..          ...  \n",
       "242  21511161.0  \n",
       "243  23222286.0  \n",
       "244  12871569.0  \n",
       "245  16290763.0  \n",
       "247  15993102.0  \n",
       "\n",
       "[247 rows x 7 columns]"
      ]
     },
     "execution_count": 5,
     "metadata": {},
     "output_type": "execute_result"
    }
   ],
   "source": [
    "df"
   ]
  },
  {
   "cell_type": "markdown",
   "id": "239bd00d",
   "metadata": {},
   "source": [
    "# TASK 2 :- Using multiple linear regression to train ICICI BANK stock prices"
   ]
  },
  {
   "cell_type": "code",
   "execution_count": 6,
   "id": "ff932b6e",
   "metadata": {},
   "outputs": [],
   "source": [
    "train_data = df.iloc[31:121]  # Subset for training (rows 31 to 120)\n",
    "test_data = df.iloc[0:31]    # Subset for testing (rows 0 to 30)"
   ]
  },
  {
   "cell_type": "code",
   "execution_count": 9,
   "id": "eadd75bd",
   "metadata": {},
   "outputs": [],
   "source": [
    "from sklearn import linear_model"
   ]
  },
  {
   "cell_type": "code",
   "execution_count": 10,
   "id": "81f36829",
   "metadata": {},
   "outputs": [],
   "source": [
    "model = linear_model.LinearRegression()"
   ]
  },
  {
   "cell_type": "code",
   "execution_count": 12,
   "id": "895dd8f3",
   "metadata": {},
   "outputs": [],
   "source": [
    "inputs=train_data[['Open','High','Low','Volume']]"
   ]
  },
  {
   "cell_type": "code",
   "execution_count": 11,
   "id": "0040da5f",
   "metadata": {},
   "outputs": [
    {
     "name": "stdout",
     "output_type": "stream",
     "text": [
      "Index(['Date', 'Open', 'High', 'Low', 'Close', 'Adj Close', 'Volume'], dtype='object')\n"
     ]
    }
   ],
   "source": [
    "print(df.columns)"
   ]
  },
  {
   "cell_type": "code",
   "execution_count": 13,
   "id": "bbed68bf",
   "metadata": {},
   "outputs": [],
   "source": [
    "targets=train_data[['Close']]"
   ]
  },
  {
   "cell_type": "code",
   "execution_count": 14,
   "id": "18cd2969",
   "metadata": {},
   "outputs": [
    {
     "data": {
      "text/html": [
       "<style>#sk-container-id-1 {color: black;}#sk-container-id-1 pre{padding: 0;}#sk-container-id-1 div.sk-toggleable {background-color: white;}#sk-container-id-1 label.sk-toggleable__label {cursor: pointer;display: block;width: 100%;margin-bottom: 0;padding: 0.3em;box-sizing: border-box;text-align: center;}#sk-container-id-1 label.sk-toggleable__label-arrow:before {content: \"▸\";float: left;margin-right: 0.25em;color: #696969;}#sk-container-id-1 label.sk-toggleable__label-arrow:hover:before {color: black;}#sk-container-id-1 div.sk-estimator:hover label.sk-toggleable__label-arrow:before {color: black;}#sk-container-id-1 div.sk-toggleable__content {max-height: 0;max-width: 0;overflow: hidden;text-align: left;background-color: #f0f8ff;}#sk-container-id-1 div.sk-toggleable__content pre {margin: 0.2em;color: black;border-radius: 0.25em;background-color: #f0f8ff;}#sk-container-id-1 input.sk-toggleable__control:checked~div.sk-toggleable__content {max-height: 200px;max-width: 100%;overflow: auto;}#sk-container-id-1 input.sk-toggleable__control:checked~label.sk-toggleable__label-arrow:before {content: \"▾\";}#sk-container-id-1 div.sk-estimator input.sk-toggleable__control:checked~label.sk-toggleable__label {background-color: #d4ebff;}#sk-container-id-1 div.sk-label input.sk-toggleable__control:checked~label.sk-toggleable__label {background-color: #d4ebff;}#sk-container-id-1 input.sk-hidden--visually {border: 0;clip: rect(1px 1px 1px 1px);clip: rect(1px, 1px, 1px, 1px);height: 1px;margin: -1px;overflow: hidden;padding: 0;position: absolute;width: 1px;}#sk-container-id-1 div.sk-estimator {font-family: monospace;background-color: #f0f8ff;border: 1px dotted black;border-radius: 0.25em;box-sizing: border-box;margin-bottom: 0.5em;}#sk-container-id-1 div.sk-estimator:hover {background-color: #d4ebff;}#sk-container-id-1 div.sk-parallel-item::after {content: \"\";width: 100%;border-bottom: 1px solid gray;flex-grow: 1;}#sk-container-id-1 div.sk-label:hover label.sk-toggleable__label {background-color: #d4ebff;}#sk-container-id-1 div.sk-serial::before {content: \"\";position: absolute;border-left: 1px solid gray;box-sizing: border-box;top: 0;bottom: 0;left: 50%;z-index: 0;}#sk-container-id-1 div.sk-serial {display: flex;flex-direction: column;align-items: center;background-color: white;padding-right: 0.2em;padding-left: 0.2em;position: relative;}#sk-container-id-1 div.sk-item {position: relative;z-index: 1;}#sk-container-id-1 div.sk-parallel {display: flex;align-items: stretch;justify-content: center;background-color: white;position: relative;}#sk-container-id-1 div.sk-item::before, #sk-container-id-1 div.sk-parallel-item::before {content: \"\";position: absolute;border-left: 1px solid gray;box-sizing: border-box;top: 0;bottom: 0;left: 50%;z-index: -1;}#sk-container-id-1 div.sk-parallel-item {display: flex;flex-direction: column;z-index: 1;position: relative;background-color: white;}#sk-container-id-1 div.sk-parallel-item:first-child::after {align-self: flex-end;width: 50%;}#sk-container-id-1 div.sk-parallel-item:last-child::after {align-self: flex-start;width: 50%;}#sk-container-id-1 div.sk-parallel-item:only-child::after {width: 0;}#sk-container-id-1 div.sk-dashed-wrapped {border: 1px dashed gray;margin: 0 0.4em 0.5em 0.4em;box-sizing: border-box;padding-bottom: 0.4em;background-color: white;}#sk-container-id-1 div.sk-label label {font-family: monospace;font-weight: bold;display: inline-block;line-height: 1.2em;}#sk-container-id-1 div.sk-label-container {text-align: center;}#sk-container-id-1 div.sk-container {/* jupyter's `normalize.less` sets `[hidden] { display: none; }` but bootstrap.min.css set `[hidden] { display: none !important; }` so we also need the `!important` here to be able to override the default hidden behavior on the sphinx rendered scikit-learn.org. See: https://github.com/scikit-learn/scikit-learn/issues/21755 */display: inline-block !important;position: relative;}#sk-container-id-1 div.sk-text-repr-fallback {display: none;}</style><div id=\"sk-container-id-1\" class=\"sk-top-container\"><div class=\"sk-text-repr-fallback\"><pre>LinearRegression()</pre><b>In a Jupyter environment, please rerun this cell to show the HTML representation or trust the notebook. <br />On GitHub, the HTML representation is unable to render, please try loading this page with nbviewer.org.</b></div><div class=\"sk-container\" hidden><div class=\"sk-item\"><div class=\"sk-estimator sk-toggleable\"><input class=\"sk-toggleable__control sk-hidden--visually\" id=\"sk-estimator-id-1\" type=\"checkbox\" checked><label for=\"sk-estimator-id-1\" class=\"sk-toggleable__label sk-toggleable__label-arrow\">LinearRegression</label><div class=\"sk-toggleable__content\"><pre>LinearRegression()</pre></div></div></div></div></div>"
      ],
      "text/plain": [
       "LinearRegression()"
      ]
     },
     "execution_count": 14,
     "metadata": {},
     "output_type": "execute_result"
    }
   ],
   "source": [
    "model.fit(inputs,targets)"
   ]
  },
  {
   "cell_type": "code",
   "execution_count": 15,
   "id": "8d04116d",
   "metadata": {},
   "outputs": [],
   "source": [
    "input_for_predicting=test_data[['Open','High','Low','Volume']]\n",
    "actual_values=test_data[['Close']]"
   ]
  },
  {
   "cell_type": "code",
   "execution_count": 20,
   "id": "7507d4bc",
   "metadata": {},
   "outputs": [],
   "source": [
    "predictions=model.predict(input_for_predicting)"
   ]
  },
  {
   "cell_type": "code",
   "execution_count": 37,
   "id": "fd8991a6",
   "metadata": {},
   "outputs": [
    {
     "data": {
      "image/png": "[encoded data removed]",
      "text/plain": [
       "<Figure size 640x480 with 1 Axes>"
      ]
     },
     "metadata": {},
     "output_type": "display_data"
    }
   ],
   "source": [
    "\n",
    "sns.set_style(\"whitegrid\")\n",
    "indices = range(len(actual_values))\n",
    "plt.scatter(indices,actual_values,color=\"hotpink\",alpha=0.7)\n",
    "plt.plot(indices,predictions,linestyle=\"dashed\")\n",
    "\n",
    "plt.xlabel('Date',color=\"green\")\n",
    "plt.ylabel('Price',color=\"green\")\n",
    "plt.title('ICICI stock Actual Values vs. Predictions',color=\"green\",loc=\"left\")\n",
    "plt.show()"
   ]
  },
  {
   "cell_type": "code",
   "execution_count": 29,
   "id": "42944556",
   "metadata": {},
   "outputs": [],
   "source": [
    "from sklearn.metrics import mean_squared_error"
   ]
  },
  {
   "cell_type": "code",
   "execution_count": 30,
   "id": "b5a8584c",
   "metadata": {},
   "outputs": [],
   "source": [
    "mse = mean_squared_error(actual_values, predictions)\n",
    "rmse = np.sqrt(mse)"
   ]
  },
  {
   "cell_type": "code",
   "execution_count": 32,
   "id": "39c3bdd0",
   "metadata": {},
   "outputs": [
    {
     "name": "stdout",
     "output_type": "stream",
     "text": [
      "Error in prediction is rupees: 3.0721203782206983\n"
     ]
    }
   ],
   "source": [
    "print(\"Error in prediction is rupees:\",rmse)"
   ]
  },
  {
   "cell_type": "code",
   "execution_count": null,
   "id": "d4191e5f",
   "metadata": {},
   "outputs": [],
   "source": []
  }
 ],
 "metadata": {
  "kernelspec": {
   "display_name": "Python 3 (ipykernel)",
   "language": "python",
   "name": "python3"
  },
  "language_info": {
   "codemirror_mode": {
    "name": "ipython",
    "version": 3
   },
   "file_extension": ".py",
   "mimetype": "text/x-python",
   "name": "python",
   "nbconvert_exporter": "python",
   "pygments_lexer": "ipython3",
   "version": "3.11.2"
  }
 },
 "nbformat": 4,
 "nbformat_minor": 5
}
